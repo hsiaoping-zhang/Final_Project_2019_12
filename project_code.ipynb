{
 "cells": [
  {
   "cell_type": "code",
   "execution_count": 1,
   "metadata": {},
   "outputs": [],
   "source": [
    "import pandas as pd\n",
    "import numpy as np"
   ]
  },
  {
   "cell_type": "code",
   "execution_count": 2,
   "metadata": {},
   "outputs": [
    {
     "name": "stdout",
     "output_type": "stream",
     "text": [
      "{'臺北': ['101大樓', '木柵動物園', '公館(台大)遊樂園', '兒童新樂園', '陽明山公園', '行天宮拜拜'], '新北': ['九份', '平溪放天燈', '野柳女王頭', '淡水老街', '富貴角燈塔'], '基隆': ['和平島', '基隆廟口'], '桃園': ['大溪老街', '可口可樂世界', '八德落雨松森林', '竹圍漁港', '小木屋鬆餅(中央店)'], '新竹': ['青青草原', '六福村'], '苗栗': ['三義木雕博物館', '龍騰斷橋', '勝興車站', '客家圓樓'], '臺中': ['逢甲夜市', '審計新村', '高美濕地', '宮原眼科'], '彰化': ['鹿港老街', '玻璃博物館', '田尾公路花園'], '南投': ['日月潭', '集集火車站', '清境農場', '妖怪村', '溪頭'], '雲林': ['劍湖山', '古坑', '北港朝天宮'], '嘉義': ['阿里山', '嘉義火車站', '民雄鬼屋咖啡'], '臺南': ['赤崁樓', '六千牛肉湯', '安平觀夕平台', '國華街', '林百貨', '奇美博物館', '新化老街', '國聖燈塔', '四草公園'], '高雄': ['駁二', '中山大學看猴子', '興達港', '草衙道', '愛河'], '屏東': ['墾丁', '萬巒豬腳', '萬丹', '鵝鑾鼻燈塔', '彩虹貨櫃市集'], '臺東': ['三仙台', '台東森林公園', '藍蜻蜓炸雞', '星星部落景觀咖啡', '金剛大道', '海濱公園', '鐵花村', '原始部落山地美食', '金城武樹'], '花蓮': ['太魯閣國家公園', '瑞穗牧場', '七星潭', '清水斷崖', '慕谷慕魚山', '大石鼻山步道', '親不知子海空中步道'], '宜蘭': ['蘇澳冷泉個人湯屋', '幾米公園', '南方澳觀景臺', '羅東夜市']}\n"
     ]
    }
   ],
   "source": [
    "df_city_site = pd.read_csv(\"site_city.csv\", encoding=\"big5\")\n",
    "site_city_dict = {}\n",
    "city_site_dict = {}\n",
    "\n",
    "# 創建 dict 是縣市對應裡面的所有景點\n",
    "for i in range(len(df_city_site)):\n",
    "    site_name = df_city_site.iloc[i][1]\n",
    "    city_name = df_city_site.iloc[i][0]\n",
    "    site_city_dict[site_name] = city_name\n",
    "    try:\n",
    "        city_site_dict[city_name[:2]].append(site_name)\n",
    "    except:\n",
    "        city_site_dict[city_name[:2]] = [site_name]\n",
    "        \n",
    "print(city_site_dict)"
   ]
  },
  {
   "cell_type": "markdown",
   "metadata": {},
   "source": [
    "#### 為了避免縣市之間的小景點們在繞圈圈，所以限制景點的縣市順序(這樣它就一定從 A 縣市出去到 B，就不能從 B 回到 A)"
   ]
  },
  {
   "cell_type": "code",
   "execution_count": 3,
   "metadata": {},
   "outputs": [],
   "source": [
    "city_order = [ '基隆', '臺北', '新北', '桃園', '新竹', '苗栗', '臺中', '南投', '彰化',\n",
    "               '雲林', '嘉義', '臺南', '高雄', '屏東', '臺東', '花蓮', '宜蘭']"
   ]
  },
  {
   "cell_type": "code",
   "execution_count": 4,
   "metadata": {},
   "outputs": [
    {
     "name": "stdout",
     "output_type": "stream",
     "text": [
      "7.3\n",
      "7.3\n",
      "['101大樓', '木柵動物園', '公館(台大)遊樂園', '兒童新樂園', '陽明山公園', '九份', '平溪放天燈', '行天宮拜拜', '野柳女王頭', '淡水老街', '富貴角燈塔', '和平島', '基隆廟口', '大溪老街', '可口可樂世界', '八德落雨松森林', '竹圍漁港', '青青草原', '小木屋鬆餅(中央店)', '六福村', '三義木雕博物館', '龍騰斷橋', '勝興車站', '客家圓樓', '逢甲夜市', '審計新村', '高美濕地', '宮原眼科', '鹿港老街', '玻璃博物館', '田尾公路花園', '日月潭', '集集火車站', '清境農場', '妖怪村', '溪頭', '劍湖山', '古坑', '北港朝天宮', '阿里山', '嘉義火車站', '民雄鬼屋咖啡', '赤崁樓', '六千牛肉湯', '安平觀夕平台', '國華街', '林百貨', '奇美博物館', '新化老街', '國聖燈塔', '四草公園', '駁二', '中山大學看猴子', '興達港', '草衙道', '愛河', '墾丁', '萬巒豬腳', '萬丹', '鵝鑾鼻燈塔', '三仙台', '台東森林公園', '藍蜻蜓炸雞', '星星部落景觀咖啡', '金剛大道', '海濱公園', '鐵花村', '彩虹貨櫃市集', '原始部落山地美食', '太魯閣國家公園', '瑞穗牧場', '金城武樹', '七星潭', '清水斷崖', '慕谷慕魚山', '大石鼻山步道', '親不知子海空中步道', '蘇澳冷泉個人湯屋', '幾米公園', '南方澳觀景臺', '羅東夜市']\n"
     ]
    }
   ],
   "source": [
    "# read file\n",
    "df_site_distance = pd.read_csv(\"travel_sites.csv\", encoding=\"big5\")\n",
    "\n",
    "# 把第一行當作 index\n",
    "df_site_distance.set_index(\"Unnamed: 0\", inplace=True)\n",
    "\n",
    "# 去掉 nan 值(有些列是空的的狀況)\n",
    "df_site_distance = df_site_distance.dropna(axis=0, how=\"any\")\n",
    "df_site_distance = df_site_distance.dropna(axis=1, how=\"all\")\n",
    "\n",
    "# 取值方法\n",
    "print(df_site_distance.loc['101大樓', '木柵動物園'])\n",
    "print(df_site_distance.iloc[0, 1])\n",
    "\n",
    "# 所有景點的 list\n",
    "site_list = list(df_site_distance.keys())\n",
    "print(site_list)"
   ]
  },
  {
   "cell_type": "code",
   "execution_count": 87,
   "metadata": {},
   "outputs": [
    {
     "name": "stdout",
     "output_type": "stream",
     "text": [
      "[3, 1, 0, 0, 10, 0, 6, 9, 1, 1, 0, 0, 0, 0, 0, 0, 0, 0, 0, 0, 0, 0, 0, 0, 0, 0, 0, 10, 0, 10, 3, 0, 0, 0, 0, 0, 0, 0, 0, 0, 0, 0, 0, 6, 9, 7, 10, 10, 10, 9, 0, 0, 0, 0, 0, 9, 0, 0, 0, 0, 0, 0, 0, 0, 0, 0, 0, 0, 0, 0, 0, 0, 0, 0, 0, 0, 0, 0, 0, 0, 0]\n"
     ]
    }
   ],
   "source": [
    "# import random\n",
    "import json\n",
    "\n",
    "# 讀檔\n",
    "satisfaction = []\n",
    "with open(\"data.txt\") as data_file:\n",
    "    json_data = json.load(data_file)\n",
    "    for place in site_list:\n",
    "        if(place in json_data):\n",
    "            satisfaction.append(int(json_data[place]))\n",
    "        else:\n",
    "            print(\"place \" + place + \" not in json file.\")\n",
    "\n",
    "# satisfaction = list(np.zeros(len(df_site_distance.keys())))\n",
    "# # create 隨機滿意度變數 list\n",
    "# for i in range(len(satisfaction)):\n",
    "#     satisfaction[i] = round(random.uniform(0, 10), 1)  # 取小數兩位\n",
    "    \n",
    "print(satisfaction)"
   ]
  },
  {
   "cell_type": "code",
   "execution_count": 14,
   "metadata": {},
   "outputs": [],
   "source": [
    "from pulp import *"
   ]
  },
  {
   "cell_type": "code",
   "execution_count": 79,
   "metadata": {},
   "outputs": [
    {
     "name": "stdout",
     "output_type": "stream",
     "text": [
      "[101大樓_101大樓, 101大樓_木柵動物園, 101大樓_公館(台大)遊樂園, 101大樓_兒童新樂園, 101大樓_陽明山公園, 101大樓_九份, 101大樓_平溪放天燈, 101大樓_行天宮拜拜, 101大樓_野柳女王頭, 101大樓_淡水老街]\n",
      "81\n",
      "finish\n"
     ]
    }
   ],
   "source": [
    "# create 2-D variables list\n",
    "length = len(df_site_distance.keys())\n",
    "\n",
    "# create a new model\n",
    "prob = pulp.LpProblem(\"travel routines scheduling\", pulp.LpMaximize)\n",
    "\n",
    "# decision variable\n",
    "variable_list = []\n",
    "for num_source in range(length):\n",
    "    tmp_list = []  # 因為是二維的，所以先建好一維再依序加入\n",
    "    for num_destination in range(length):\n",
    "        variable_name = site_list[num_source] + \"-\" + site_list[num_destination]\n",
    "        tmp = pulp.LpVariable(variable_name, lowBound=0, cat=\"Binary\")\n",
    "        tmp_list.append(tmp)\n",
    "        # infinite distance (A -> A)\n",
    "        if(num_source == num_destination):\n",
    "            df_site_distance.iloc[num_source, num_destination] = float(\"inf\")\n",
    "            \n",
    "    variable_list.append(tmp_list)\n",
    "    \n",
    "# 變數名稱查看    \n",
    "print(variable_list[0][:10])     \n",
    "print(len(satisfaction))\n",
    "print(\"finish\")"
   ]
  },
  {
   "cell_type": "code",
   "execution_count": 80,
   "metadata": {},
   "outputs": [
    {
     "name": "stdout",
     "output_type": "stream",
     "text": [
      "finish\n"
     ]
    }
   ],
   "source": [
    "# objective(滿意度最大化)\n",
    "tmp_obj = 0\n",
    "for i in range(length):\n",
    "        tmp_obj += lpSum([satisfaction[j] * variable_list[i][j] for j in range(length)])\n",
    "prob += tmp_obj\n",
    "print(\"finish\")"
   ]
  },
  {
   "cell_type": "code",
   "execution_count": 81,
   "metadata": {
    "scrolled": true
   },
   "outputs": [
    {
     "name": "stdout",
     "output_type": "stream",
     "text": [
      "end\n"
     ]
    }
   ],
   "source": [
    "# constraint\n",
    "\n",
    "for num in range(length):\n",
    "    # 景點行列各別總和等於 0 或 1  variables_list\n",
    "    prob += lpSum([variable_list[num][j] for j in range(length)]) <= 1  # column\n",
    "    prob += lpSum([variable_list[j][num] for j in range(length)]) <= 1  # row\n",
    "    \n",
    "    # 景點有進有出 (### 但是還沒處理完三個以上景點的 loop ###)\n",
    "    tmp1, tmp2 = 0, 0\n",
    "    for j in range(length):\n",
    "        tmp1 += variable_list[num][j]\n",
    "        tmp2 += variable_list[j][num]\n",
    "#         prob += (variable_list[num][j] + variable_list[j][num] <= 1)  # 避免兩個景點之間互相抵達\n",
    "    prob += (tmp1 == tmp2)\n",
    "\n",
    "# 每個縣市都要逛到(有進有出):從外縣市、離開此縣市，縣市之間有順序性\n",
    "for city in city_site_dict:\n",
    "    flag = True\n",
    "    for next_city in city_site_dict:\n",
    "        city_tmp_sum_in, city_tmp_sum_out = 0, 0\n",
    "        if(next_city == city):\n",
    "            continue\n",
    "        # 某個縣市的所有景點針對另一個縣市所有的景點進出計算(跨縣市)    \n",
    "        for site in city_site_dict[city]:\n",
    "            index_site = site_list.index(site)\n",
    "            city_tmp_sum_out += lpSum(variable_list[index_site][site_list.index(next_site)] \n",
    "                                     for next_site in city_site_dict[next_city])\n",
    "            city_tmp_sum_in += lpSum(variable_list[site_list.index(next_site)][index_site] \n",
    "                                     for next_site in city_site_dict[next_city])\n",
    "        \n",
    "        num_in, num_out = 0, 0\n",
    "        if(next_city == city_order[(city_order.index(city)+1)%len(city_order)]):\n",
    "            num_out = 1\n",
    "        if(city == city_order[(city_order.index(next_city)+1)%len(city_order)]):\n",
    "            num_in = 1\n",
    "            \n",
    "        prob += (city_tmp_sum_in == num_in)\n",
    "        prob += (city_tmp_sum_out == num_out)\n",
    "    \n",
    "# 距離成本\n",
    "distance = 0\n",
    "for i in range(length):\n",
    "    for j in range(length):\n",
    "        if(i == j):\n",
    "            distance += 1000 * variable_list[i][j]\n",
    "            continue\n",
    "        distance += df_site_distance.iloc[i, j] * variable_list[i][j]\n",
    "    \n",
    "prob += (distance <= float(1200))\n",
    "print(\"end\")"
   ]
  },
  {
   "cell_type": "code",
   "execution_count": 82,
   "metadata": {},
   "outputs": [
    {
     "name": "stdout",
     "output_type": "stream",
     "text": [
      "finish\n"
     ]
    }
   ],
   "source": [
    "import itertools\n",
    "# 縣市裡面內部景點自己繞圈圈(目前設定到 6 個)\n",
    "for city in city_site_dict:\n",
    "    site_list_in_city = city_site_dict[city]\n",
    "    for numbers in range(2, 6):\n",
    "        if(len(site_list_in_city) < numbers):\n",
    "            continue\n",
    "        permutation_list = list(itertools.permutations(site_list_in_city, numbers))\n",
    "        for num in range(len(permutation_list)):\n",
    "            tmp_addition = 0\n",
    "            for index in range(numbers):\n",
    "                site_1 = site_list.index(permutation_list[num][index])\n",
    "                site_2 = site_list.index(permutation_list[num][(index+1)%numbers])\n",
    "                tmp_addition += variable_list[site_1][site_2]\n",
    "            prob += (tmp_addition <= numbers - 1)  # 避免景點之間互相抵達\n",
    "print(\"finish\")"
   ]
  },
  {
   "cell_type": "code",
   "execution_count": 83,
   "metadata": {
    "scrolled": true
   },
   "outputs": [
    {
     "name": "stdout",
     "output_type": "stream",
     "text": [
      "Status: Optimal\n",
      "101大樓_公館(台大)遊樂園 = 1 (4.8)\n",
      "七星潭_清水斷崖 = 1 (26.8)\n",
      "中山大學看猴子_駁二 = 1 (4.1)\n",
      "兒童新樂園_陽明山公園 = 1 (7.0)\n",
      "八德落雨松森林_大溪老街 = 1 (6.6)\n",
      "公館(台大)遊樂園_行天宮拜拜 = 1 (5.8)\n",
      "六福村_青青草原 = 1 (38.6)\n",
      "北港朝天宮_民雄鬼屋咖啡 = 1 (16.6)\n",
      "南方澳觀景臺_蘇澳冷泉個人湯屋 = 1 (4.4)\n",
      "可口可樂世界_八德落雨松森林 = 1 (17.0)\n",
      "台東森林公園_星星部落景觀咖啡 = 1 (9.8)\n",
      "和平島_基隆廟口 = 1 (6.5)\n",
      "嘉義火車站_新化老街 = 1 (62.0)\n",
      "國華街_赤崁樓 = 1 (0.75)\n",
      "基隆廟口_101大樓 = 1 (28.5)\n",
      "大溪老街_六福村 = 1 (19.3)\n",
      "奇美博物館_興達港 = 1 (11.3)\n",
      "妖怪村_田尾公路花園 = 1 (61.1)\n",
      "安平觀夕平台_國華街 = 1 (7.2)\n",
      "客家圓樓_高美濕地 = 1 (26.6)\n",
      "宮原眼科_集集火車站 = 1 (49.1)\n",
      "幾米公園_和平島 = 1 (63.7)\n",
      "愛河_中山大學看猴子 = 1 (8.3)\n",
      "新化老街_安平觀夕平台 = 1 (19.4)\n",
      "星星部落景觀咖啡_金城武樹 = 1 (43.2)\n",
      "林百貨_奇美博物館 = 1 (7.5)\n",
      "民雄鬼屋咖啡_嘉義火車站 = 1 (7.2)\n",
      "海濱公園_台東森林公園 = 1 (2.0)\n",
      "淡水老街_可口可樂世界 = 1 (46.3)\n",
      "清水斷崖_南方澳觀景臺 = 1 (62.7)\n",
      "溪頭_妖怪村 = 1 (0.35)\n",
      "瑞穗牧場_七星潭 = 1 (74.8)\n",
      "田尾公路花園_北港朝天宮 = 1 (58.3)\n",
      "羅東夜市_幾米公園 = 1 (9.0)\n",
      "興達港_愛河 = 1 (30.9)\n",
      "草衙道_萬丹 = 1 (19.2)\n",
      "萬丹_萬巒豬腳 = 1 (11.3)\n",
      "萬巒豬腳_鐵花村 = 1 (144.0)\n",
      "藍蜻蜓炸雞_海濱公園 = 1 (0.85)\n",
      "蘇澳冷泉個人湯屋_羅東夜市 = 1 (14.2)\n",
      "行天宮拜拜_兒童新樂園 = 1 (5.1)\n",
      "赤崁樓_林百貨 = 1 (0.75)\n",
      "逢甲夜市_宮原眼科 = 1 (7.4)\n",
      "金城武樹_瑞穗牧場 = 1 (55.4)\n",
      "鐵花村_藍蜻蜓炸雞 = 1 (0.75)\n",
      "陽明山公園_淡水老街 = 1 (8.1)\n",
      "集集火車站_溪頭 = 1 (26.6)\n",
      "青青草原_客家圓樓 = 1 (26.1)\n",
      "駁二_草衙道 = 1 (8.4)\n",
      "高美濕地_逢甲夜市 = 1 (24.3)\n",
      "obj= 315.0\n",
      "total sites: 50\n",
      "distance: 1199.9499999999998\n",
      "[2, 0, 2, 2, 2, 0, 0, 2, 0, 2, 0, 2, 2, 2, 2, 2, 0, 2, 0, 2, 0, 0, 0, 2, 2, 0, 2, 2, 0, 0, 2, 0, 2, 0, 2, 2, 0, 0, 2, 0, 2, 2, 2, 0, 2, 2, 2, 2, 2, 0, 0, 2, 2, 2, 2, 2, 0, 2, 2, 0, 0, 2, 2, 2, 0, 2, 2, 0, 0, 0, 2, 2, 2, 2, 0, 0, 0, 2, 2, 2, 2]\n",
      "{'萬巒豬腳', '逢甲夜市', '公館(台大)遊樂園', '北港朝天宮', '清水斷崖', '青青草原', '國華街', '七星潭', '南方澳觀景臺', '宮原眼科', '海濱公園', '客家圓樓', '萬丹', '集集火車站', '新化老街', '陽明山公園', '溪頭', '八德落雨松森林', '高美濕地', '中山大學看猴子', '愛河', '蘇澳冷泉個人湯屋', '安平觀夕平台', '嘉義火車站', '駁二', '妖怪村', '六福村', '草衙道', '興達港', '台東森林公園', '兒童新樂園', '民雄鬼屋咖啡', '藍蜻蜓炸雞', '基隆廟口', '金城武樹', '林百貨', '可口可樂世界', '瑞穗牧場', '鐵花村', '羅東夜市', '田尾公路花園', '行天宮拜拜', '大溪老街', '幾米公園', '101大樓', '淡水老街', '和平島', '星星部落景觀咖啡', '赤崁樓', '奇美博物館'} 50\n"
     ]
    }
   ],
   "source": [
    "prob.solve()\n",
    "\n",
    "print(\"Status:\", LpStatus[prob.status])\n",
    "total = 0\n",
    "distance_total = 0\n",
    "bool_list = [0] * len(site_list)  # 判斷走幾次\n",
    "global final_dict\n",
    "final_dict = {}\n",
    "\n",
    "for site in site_list:\n",
    "    final_dict[site] = [\"\", \"\"]\n",
    "    \n",
    "# 計算總距離的 function + 存入景點進出狀況到 final_dict\n",
    "def add(routine, distance_total, bool_list):\n",
    "    routine = routine.split(\"_\")\n",
    "    bool_list[site_list.index(routine[0])] += 1\n",
    "    bool_list[site_list.index(routine[1])] += 1\n",
    "    print(\"(\" + str(df_site_distance.loc[routine[0], routine[1]]) + \")\")\n",
    "    distance_total += df_site_distance.loc[routine[0], routine[1]]\n",
    "    \n",
    "    final_dict[routine[0]][1] = routine[1]  # 抵達\n",
    "    final_dict[routine[1]][0] = routine[0]  # 出發\n",
    "\n",
    "    return distance_total\n",
    "\n",
    "final_site_list = []    \n",
    "for v in prob.variables():\n",
    "    if(int(v.varValue) == 1):\n",
    "        print(v.name, \"=\", int(v.varValue), end=\" \")\n",
    "        total += 1\n",
    "        distance_total = add(str(v.name), distance_total, bool_list)\n",
    "        final_site_list.append(str(v.name).split(\"_\")[0])\n",
    "        \n",
    "print('obj=',round(value(prob.objective), 2))  # 滿意度\n",
    "print(\"total sites:\", total)                   # 經過總景點數\n",
    "print(\"distance:\", distance_total)             # 總里程\n",
    "print(bool_list)\n",
    "final_site_list = set(final_site_list)\n",
    "print(final_site_list, len(final_site_list))"
   ]
  },
  {
   "cell_type": "code",
   "execution_count": 84,
   "metadata": {
    "scrolled": true
   },
   "outputs": [
    {
     "name": "stdout",
     "output_type": "stream",
     "text": [
      "嘉義火車站 -> 新化老街\n",
      "新化老街 -> 安平觀夕平台\n",
      "安平觀夕平台 -> 國華街\n",
      "國華街 -> 赤崁樓\n",
      "赤崁樓 -> 林百貨\n",
      "林百貨 -> 奇美博物館\n",
      "奇美博物館 -> 興達港\n",
      "興達港 -> 愛河\n",
      "愛河 -> 中山大學看猴子\n",
      "中山大學看猴子 -> 駁二\n",
      "駁二 -> 草衙道\n",
      "草衙道 -> 萬丹\n",
      "萬丹 -> 萬巒豬腳\n",
      "萬巒豬腳 -> 鐵花村\n",
      "鐵花村 -> 藍蜻蜓炸雞\n",
      "藍蜻蜓炸雞 -> 海濱公園\n",
      "海濱公園 -> 台東森林公園\n",
      "台東森林公園 -> 星星部落景觀咖啡\n",
      "星星部落景觀咖啡 -> 金城武樹\n",
      "金城武樹 -> 瑞穗牧場\n",
      "瑞穗牧場 -> 七星潭\n",
      "七星潭 -> 清水斷崖\n",
      "清水斷崖 -> 南方澳觀景臺\n",
      "南方澳觀景臺 -> 蘇澳冷泉個人湯屋\n",
      "蘇澳冷泉個人湯屋 -> 羅東夜市\n",
      "羅東夜市 -> 幾米公園\n",
      "幾米公園 -> 和平島\n",
      "和平島 -> 基隆廟口\n",
      "基隆廟口 -> 101大樓\n",
      "101大樓 -> 公館(台大)遊樂園\n",
      "公館(台大)遊樂園 -> 行天宮拜拜\n",
      "行天宮拜拜 -> 兒童新樂園\n",
      "兒童新樂園 -> 陽明山公園\n",
      "陽明山公園 -> 淡水老街\n",
      "淡水老街 -> 可口可樂世界\n",
      "可口可樂世界 -> 八德落雨松森林\n",
      "八德落雨松森林 -> 大溪老街\n",
      "大溪老街 -> 六福村\n",
      "六福村 -> 青青草原\n",
      "青青草原 -> 客家圓樓\n",
      "客家圓樓 -> 高美濕地\n",
      "高美濕地 -> 逢甲夜市\n",
      "逢甲夜市 -> 宮原眼科\n",
      "宮原眼科 -> 集集火車站\n",
      "集集火車站 -> 溪頭\n",
      "溪頭 -> 妖怪村\n",
      "妖怪村 -> 田尾公路花園\n",
      "田尾公路花園 -> 北港朝天宮\n",
      "北港朝天宮 -> 民雄鬼屋咖啡\n",
      "民雄鬼屋咖啡 -> 嘉義火車站\n",
      "count: 49\n",
      "set()\n"
     ]
    },
    {
     "data": {
      "text/plain": [
       "\"\\n比如範例裡面臺南的 '赤崁樓', '林百貨', '國華街' 三個自己在小圈圈\\n\""
      ]
     },
     "execution_count": 84,
     "metadata": {},
     "output_type": "execute_result"
    }
   ],
   "source": [
    "# 把景點順序印出來\n",
    "first =  \"嘉義火車站\"  # 有在路線當中隨便一個景點丟進來\n",
    "this_site = first\n",
    "next_site = final_dict[first][1]\n",
    "final_site_list.remove(first)\n",
    "print(first + \" -> \" + next_site)\n",
    "this_site = next_site\n",
    "next_site = final_dict[this_site][1]\n",
    "counting = 0\n",
    "\n",
    "while(this_site != first and counting <= 50):\n",
    "    print(this_site + \" -> \" + next_site)\n",
    "    final_site_list.remove(this_site)\n",
    "    this_site = next_site\n",
    "    next_site = final_dict[this_site][1]\n",
    "    counting += 1\n",
    "    \n",
    "print(\"count:\", counting)\n",
    "print(final_site_list)  # 剩下有問題沒接起來的景點(自己有小 loop 的)\n",
    "\n",
    "'''\n",
    "比如範例裡面臺南的 '赤崁樓', '林百貨', '國華街' 三個自己在小圈圈\n",
    "'''"
   ]
  }
 ],
 "metadata": {
  "kernelspec": {
   "display_name": "Python 3",
   "language": "python",
   "name": "python3"
  },
  "language_info": {
   "codemirror_mode": {
    "name": "ipython",
    "version": 3
   },
   "file_extension": ".py",
   "mimetype": "text/x-python",
   "name": "python",
   "nbconvert_exporter": "python",
   "pygments_lexer": "ipython3",
   "version": "3.6.4"
  }
 },
 "nbformat": 4,
 "nbformat_minor": 2
}
